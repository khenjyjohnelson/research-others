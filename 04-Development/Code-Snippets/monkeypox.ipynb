{
 "cells": [
  {
   "cell_type": "code",
   "execution_count": null,
   "metadata": {
    "id": "YfE3SyN0Johp"
   },
   "outputs": [],
   "source": [
    "# IMPORTANT: RUN THIS CELL IN ORDER TO IMPORT YOUR KAGGLE DATA SOURCES,\n",
    "# THEN FEEL FREE TO DELETE THIS CELL.\n",
    "# NOTE: THIS NOTEBOOK ENVIRONMENT DIFFERS FROM KAGGLE'S PYTHON\n",
    "# ENVIRONMENT SO THERE MAY BE MISSING LIBRARIES USED BY YOUR\n",
    "# NOTEBOOK.\n",
    "import kagglehub\n",
    "muhammad4hmed_monkeypox_patients_dataset_path = kagglehub.dataset_download('muhammad4hmed/monkeypox-patients-dataset')\n",
    "\n",
    "print('Data source import complete.')\n"
   ]
  },
  {
   "cell_type": "code",
   "execution_count": null,
   "metadata": {
    "_cell_guid": "b1076dfc-b9ad-4769-8c92-a6c4dae69d19",
    "_uuid": "8f2839f25d086af736a60e9eeb907d3b93b6e0e5",
    "execution": {
     "iopub.execute_input": "2024-12-30T15:17:04.02062Z",
     "iopub.status.busy": "2024-12-30T15:17:04.020227Z",
     "iopub.status.idle": "2024-12-30T15:17:04.441155Z",
     "shell.execute_reply": "2024-12-30T15:17:04.440124Z",
     "shell.execute_reply.started": "2024-12-30T15:17:04.020581Z"
    },
    "id": "N9b9u-x5Johr",
    "outputId": "35f7ac3d-9223-434a-d59e-759abab0c418"
   },
   "outputs": [
    {
     "name": "stdout",
     "output_type": "stream",
     "text": [
      "/kaggle/input/monkeypox-patients-dataset/DATA.csv\n"
     ]
    }
   ],
   "source": [
    "# This Python 3 environment comes with many helpful analytics libraries installed\n",
    "# It is defined by the kaggle/python Docker image: https://github.com/kaggle/docker-python\n",
    "# For example, here's several helpful packages to load\n",
    "\n",
    "import numpy as np # linear algebra\n",
    "import pandas as pd # data processing, CSV file I/O (e.g. pd.read_csv)\n",
    "\n",
    "# Input data files are available in the read-only \"../input/\" directory\n",
    "# For example, running this (by clicking run or pressing Shift+Enter) will list all files under the input directory\n",
    "\n",
    "import os\n",
    "for dirname, _, filenames in os.walk('/kaggle/input'):\n",
    "    for filename in filenames:\n",
    "        print(os.path.join(dirname, filename))\n",
    "\n",
    "# You can write up to 20GB to the current directory (/kaggle/working/) that gets preserved as output when you create a version using \"Save & Run All\"\n",
    "# You can also write temporary files to /kaggle/temp/, but they won't be saved outside of the current session"
   ]
  },
  {
   "cell_type": "code",
   "execution_count": null,
   "metadata": {
    "execution": {
     "iopub.execute_input": "2024-12-30T15:17:17.145911Z",
     "iopub.status.busy": "2024-12-30T15:17:17.145574Z",
     "iopub.status.idle": "2024-12-30T15:17:17.270828Z",
     "shell.execute_reply": "2024-12-30T15:17:17.269866Z",
     "shell.execute_reply.started": "2024-12-30T15:17:17.145885Z"
    },
    "id": "NinFUO2AJohs"
   },
   "outputs": [],
   "source": [
    "import pandas as pd\n",
    "\n",
    "# Load the dataset\n",
    "file_path = \"/kaggle/input/monkeypox-patients-dataset/DATA.csv\"  # Replace with the actual path to your CSV file\n",
    "\n",
    "# Specify that \"None\" should NOT be treated as missing data\n",
    "df = pd.read_csv(file_path, na_values=['', 'NaN'], keep_default_na=False)\n",
    "\n",
    "# Ensure the column 'Patient_ID' exists before trying to drop it\n",
    "if 'Patient_ID' in df.columns:\n",
    "    # Remove the 'Patient_ID' column\n",
    "    df = df.drop(columns=['Patient_ID'])\n",
    "    print(\"'Patient_ID' column has been removed.\")\n",
    "else:\n",
    "    print(\"The column 'Patient_ID' does not exist in the dataset.\")\n",
    "\n",
    "# Verify if the word \"None\" is still present in the dataset\n",
    "if 'None' in df.values:\n",
    "    print(\"The word 'None' is still present in the dataset.\")\n",
    "else:\n",
    "    print(\"Warning: The word 'None' is missing from the dataset!\")\n",
    "\n",
    "# Save the updated file\n",
    "output_file = \"updated_file.csv\"  # Name of the output file\n",
    "df.to_csv(output_file, index=False)\n",
    "\n",
    "print(\"Updated dataset has been saved as:\", output_file)\n"
   ]
  },
  {
   "cell_type": "code",
   "execution_count": null,
   "metadata": {
    "id": "RrbeQbG_Joht"
   },
   "outputs": [],
   "source": [
    "install.packages('ROSE')\n",
    "library(ROSE)\n",
    "install.packages('e1071')\n",
    "library(e1071)\n",
    "install.packages('readxl')\n",
    "library(readxl)\n",
    "\n",
    "read_excel(\"updated_file.xlsx\")"
   ]
  }
 ],
 "metadata": {
  "accelerator": "GPU",
  "colab": {
   "gpuType": "T4",
   "name": "monkeypox",
   "provenance": []
  },
  "kaggle": {
   "accelerator": "none",
   "dataSources": [
    {
     "datasetId": 2516833,
     "sourceId": 4271503,
     "sourceType": "datasetVersion"
    }
   ],
   "dockerImageVersionId": 30822,
   "isGpuEnabled": false,
   "isInternetEnabled": true,
   "language": "python",
   "sourceType": "notebook"
  },
  "kernelspec": {
   "display_name": "Python 3 (ipykernel)",
   "language": "python",
   "name": "python3"
  },
  "language_info": {
   "codemirror_mode": {
    "name": "ipython",
    "version": 3
   },
   "file_extension": ".py",
   "mimetype": "text/x-python",
   "name": "python",
   "nbconvert_exporter": "python",
   "pygments_lexer": "ipython3",
   "version": "3.12.7"
  }
 },
 "nbformat": 4,
 "nbformat_minor": 4
}
