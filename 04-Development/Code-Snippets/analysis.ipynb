{
  "nbformat": 4,
  "nbformat_minor": 0,
  "metadata": {
    "colab": {
      "provenance": []
    },
    "kernelspec": {
      "name": "ir",
      "display_name": "R"
    },
    "language_info": {
      "name": "R"
    }
  },
  "cells": [
    {
      "cell_type": "code",
      "execution_count": null,
      "metadata": {
        "colab": {
          "base_uri": "https://localhost:8080/"
        },
        "id": "sk3yvb1Lnfcd",
        "outputId": "68f541e9-10d9-4895-b19c-1dc0ceb2481d"
      },
      "outputs": [
        {
          "output_type": "stream",
          "name": "stderr",
          "text": [
            "Installing package into ‘/usr/local/lib/R/site-library’\n",
            "(as ‘lib’ is unspecified)\n",
            "\n",
            "Loaded ROSE 0.0-4\n",
            "\n",
            "\n",
            "Installing package into ‘/usr/local/lib/R/site-library’\n",
            "(as ‘lib’ is unspecified)\n",
            "\n",
            "also installing the dependency ‘proxy’\n",
            "\n",
            "\n",
            "Installing package into ‘/usr/local/lib/R/site-library’\n",
            "(as ‘lib’ is unspecified)\n",
            "\n"
          ]
        }
      ],
      "source": [
        "# @title\n",
        "install.packages('ROSE')\n",
        "library(ROSE)\n",
        "install.packages('e1071')\n",
        "library(\"e1071\")\n",
        "install.packages(\"readxl\")\n",
        "library(\"readxl\")"
      ]
    },
    {
      "cell_type": "code",
      "source": [
        "dataimbanced <- read_excel('/content/Data Penyakit Jantung.xlsx')\n",
        "dataimbalanced <- data.frame(dataimbalanced)al\n",
        "\n",
        "summary(dataimbalanced)\n",
        "head(dataimbalanced)\n",
        "tail(dataimbalanced)\n",
        "dim(dataimbalanced)"
      ],
      "metadata": {
        "colab": {
          "base_uri": "https://localhost:8080/",
          "height": 1000
        },
        "id": "TTespI5Yoc6I",
        "outputId": "bdf54279-f544-4f5f-8eb4-473d37d93211"
      },
      "execution_count": null,
      "outputs": [
        {
          "output_type": "display_data",
          "data": {
            "text/plain": [
              "      age             sex               cp           trestbps    \n",
              " Min.   :29.00   Min.   :0.0000   Min.   :0.000   Min.   : 94.0  \n",
              " 1st Qu.:47.50   1st Qu.:0.0000   1st Qu.:0.000   1st Qu.:120.0  \n",
              " Median :55.00   Median :1.0000   Median :1.000   Median :130.0  \n",
              " Mean   :54.37   Mean   :0.6832   Mean   :0.967   Mean   :131.6  \n",
              " 3rd Qu.:61.00   3rd Qu.:1.0000   3rd Qu.:2.000   3rd Qu.:140.0  \n",
              " Max.   :77.00   Max.   :1.0000   Max.   :3.000   Max.   :200.0  \n",
              "      chol            fbs            restecg          thalach     \n",
              " Min.   :126.0   Min.   :0.0000   Min.   :0.0000   Min.   : 71.0  \n",
              " 1st Qu.:211.0   1st Qu.:0.0000   1st Qu.:0.0000   1st Qu.:133.5  \n",
              " Median :240.0   Median :0.0000   Median :1.0000   Median :153.0  \n",
              " Mean   :246.3   Mean   :0.1485   Mean   :0.5281   Mean   :149.6  \n",
              " 3rd Qu.:274.5   3rd Qu.:0.0000   3rd Qu.:1.0000   3rd Qu.:166.0  \n",
              " Max.   :564.0   Max.   :1.0000   Max.   :2.0000   Max.   :202.0  \n",
              "     exang           oldpeak         slope             ca        \n",
              " Min.   :0.0000   Min.   :0.00   Min.   :0.000   Min.   :0.0000  \n",
              " 1st Qu.:0.0000   1st Qu.:0.00   1st Qu.:1.000   1st Qu.:0.0000  \n",
              " Median :0.0000   Median :0.80   Median :1.000   Median :0.0000  \n",
              " Mean   :0.3267   Mean   :1.04   Mean   :1.399   Mean   :0.7294  \n",
              " 3rd Qu.:1.0000   3rd Qu.:1.60   3rd Qu.:2.000   3rd Qu.:1.0000  \n",
              " Max.   :1.0000   Max.   :6.20   Max.   :2.000   Max.   :4.0000  \n",
              "      thal           target      \n",
              " Min.   :0.000   Min.   :0.0000  \n",
              " 1st Qu.:2.000   1st Qu.:0.0000  \n",
              " Median :2.000   Median :1.0000  \n",
              " Mean   :2.314   Mean   :0.5446  \n",
              " 3rd Qu.:3.000   3rd Qu.:1.0000  \n",
              " Max.   :3.000   Max.   :1.0000  "
            ]
          },
          "metadata": {}
        },
        {
          "output_type": "display_data",
          "data": {
            "text/html": [
              "<table class=\"dataframe\">\n",
              "<caption>A data.frame: 6 × 14</caption>\n",
              "<thead>\n",
              "\t<tr><th></th><th scope=col>age</th><th scope=col>sex</th><th scope=col>cp</th><th scope=col>trestbps</th><th scope=col>chol</th><th scope=col>fbs</th><th scope=col>restecg</th><th scope=col>thalach</th><th scope=col>exang</th><th scope=col>oldpeak</th><th scope=col>slope</th><th scope=col>ca</th><th scope=col>thal</th><th scope=col>target</th></tr>\n",
              "\t<tr><th></th><th scope=col>&lt;dbl&gt;</th><th scope=col>&lt;dbl&gt;</th><th scope=col>&lt;dbl&gt;</th><th scope=col>&lt;dbl&gt;</th><th scope=col>&lt;dbl&gt;</th><th scope=col>&lt;dbl&gt;</th><th scope=col>&lt;dbl&gt;</th><th scope=col>&lt;dbl&gt;</th><th scope=col>&lt;dbl&gt;</th><th scope=col>&lt;dbl&gt;</th><th scope=col>&lt;dbl&gt;</th><th scope=col>&lt;dbl&gt;</th><th scope=col>&lt;dbl&gt;</th><th scope=col>&lt;dbl&gt;</th></tr>\n",
              "</thead>\n",
              "<tbody>\n",
              "\t<tr><th scope=row>1</th><td>63</td><td>1</td><td>3</td><td>145</td><td>233</td><td>1</td><td>0</td><td>150</td><td>0</td><td>2.3</td><td>0</td><td>0</td><td>1</td><td>1</td></tr>\n",
              "\t<tr><th scope=row>2</th><td>37</td><td>1</td><td>2</td><td>130</td><td>250</td><td>0</td><td>1</td><td>187</td><td>0</td><td>3.5</td><td>0</td><td>0</td><td>2</td><td>1</td></tr>\n",
              "\t<tr><th scope=row>3</th><td>41</td><td>0</td><td>1</td><td>130</td><td>204</td><td>0</td><td>0</td><td>172</td><td>0</td><td>1.4</td><td>2</td><td>0</td><td>2</td><td>1</td></tr>\n",
              "\t<tr><th scope=row>4</th><td>56</td><td>1</td><td>1</td><td>120</td><td>236</td><td>0</td><td>1</td><td>178</td><td>0</td><td>0.8</td><td>2</td><td>0</td><td>2</td><td>1</td></tr>\n",
              "\t<tr><th scope=row>5</th><td>57</td><td>0</td><td>0</td><td>120</td><td>354</td><td>0</td><td>1</td><td>163</td><td>1</td><td>0.6</td><td>2</td><td>0</td><td>2</td><td>1</td></tr>\n",
              "\t<tr><th scope=row>6</th><td>57</td><td>1</td><td>0</td><td>140</td><td>192</td><td>0</td><td>1</td><td>148</td><td>0</td><td>0.4</td><td>1</td><td>0</td><td>1</td><td>1</td></tr>\n",
              "</tbody>\n",
              "</table>\n"
            ],
            "text/markdown": "\nA data.frame: 6 × 14\n\n| <!--/--> | age &lt;dbl&gt; | sex &lt;dbl&gt; | cp &lt;dbl&gt; | trestbps &lt;dbl&gt; | chol &lt;dbl&gt; | fbs &lt;dbl&gt; | restecg &lt;dbl&gt; | thalach &lt;dbl&gt; | exang &lt;dbl&gt; | oldpeak &lt;dbl&gt; | slope &lt;dbl&gt; | ca &lt;dbl&gt; | thal &lt;dbl&gt; | target &lt;dbl&gt; |\n|---|---|---|---|---|---|---|---|---|---|---|---|---|---|---|\n| 1 | 63 | 1 | 3 | 145 | 233 | 1 | 0 | 150 | 0 | 2.3 | 0 | 0 | 1 | 1 |\n| 2 | 37 | 1 | 2 | 130 | 250 | 0 | 1 | 187 | 0 | 3.5 | 0 | 0 | 2 | 1 |\n| 3 | 41 | 0 | 1 | 130 | 204 | 0 | 0 | 172 | 0 | 1.4 | 2 | 0 | 2 | 1 |\n| 4 | 56 | 1 | 1 | 120 | 236 | 0 | 1 | 178 | 0 | 0.8 | 2 | 0 | 2 | 1 |\n| 5 | 57 | 0 | 0 | 120 | 354 | 0 | 1 | 163 | 1 | 0.6 | 2 | 0 | 2 | 1 |\n| 6 | 57 | 1 | 0 | 140 | 192 | 0 | 1 | 148 | 0 | 0.4 | 1 | 0 | 1 | 1 |\n\n",
            "text/latex": "A data.frame: 6 × 14\n\\begin{tabular}{r|llllllllllllll}\n  & age & sex & cp & trestbps & chol & fbs & restecg & thalach & exang & oldpeak & slope & ca & thal & target\\\\\n  & <dbl> & <dbl> & <dbl> & <dbl> & <dbl> & <dbl> & <dbl> & <dbl> & <dbl> & <dbl> & <dbl> & <dbl> & <dbl> & <dbl>\\\\\n\\hline\n\t1 & 63 & 1 & 3 & 145 & 233 & 1 & 0 & 150 & 0 & 2.3 & 0 & 0 & 1 & 1\\\\\n\t2 & 37 & 1 & 2 & 130 & 250 & 0 & 1 & 187 & 0 & 3.5 & 0 & 0 & 2 & 1\\\\\n\t3 & 41 & 0 & 1 & 130 & 204 & 0 & 0 & 172 & 0 & 1.4 & 2 & 0 & 2 & 1\\\\\n\t4 & 56 & 1 & 1 & 120 & 236 & 0 & 1 & 178 & 0 & 0.8 & 2 & 0 & 2 & 1\\\\\n\t5 & 57 & 0 & 0 & 120 & 354 & 0 & 1 & 163 & 1 & 0.6 & 2 & 0 & 2 & 1\\\\\n\t6 & 57 & 1 & 0 & 140 & 192 & 0 & 1 & 148 & 0 & 0.4 & 1 & 0 & 1 & 1\\\\\n\\end{tabular}\n",
            "text/plain": [
              "  age sex cp trestbps chol fbs restecg thalach exang oldpeak slope ca thal\n",
              "1 63  1   3  145      233  1   0       150     0     2.3     0     0  1   \n",
              "2 37  1   2  130      250  0   1       187     0     3.5     0     0  2   \n",
              "3 41  0   1  130      204  0   0       172     0     1.4     2     0  2   \n",
              "4 56  1   1  120      236  0   1       178     0     0.8     2     0  2   \n",
              "5 57  0   0  120      354  0   1       163     1     0.6     2     0  2   \n",
              "6 57  1   0  140      192  0   1       148     0     0.4     1     0  1   \n",
              "  target\n",
              "1 1     \n",
              "2 1     \n",
              "3 1     \n",
              "4 1     \n",
              "5 1     \n",
              "6 1     "
            ]
          },
          "metadata": {}
        },
        {
          "output_type": "display_data",
          "data": {
            "text/html": [
              "<table class=\"dataframe\">\n",
              "<caption>A data.frame: 6 × 14</caption>\n",
              "<thead>\n",
              "\t<tr><th></th><th scope=col>age</th><th scope=col>sex</th><th scope=col>cp</th><th scope=col>trestbps</th><th scope=col>chol</th><th scope=col>fbs</th><th scope=col>restecg</th><th scope=col>thalach</th><th scope=col>exang</th><th scope=col>oldpeak</th><th scope=col>slope</th><th scope=col>ca</th><th scope=col>thal</th><th scope=col>target</th></tr>\n",
              "\t<tr><th></th><th scope=col>&lt;dbl&gt;</th><th scope=col>&lt;dbl&gt;</th><th scope=col>&lt;dbl&gt;</th><th scope=col>&lt;dbl&gt;</th><th scope=col>&lt;dbl&gt;</th><th scope=col>&lt;dbl&gt;</th><th scope=col>&lt;dbl&gt;</th><th scope=col>&lt;dbl&gt;</th><th scope=col>&lt;dbl&gt;</th><th scope=col>&lt;dbl&gt;</th><th scope=col>&lt;dbl&gt;</th><th scope=col>&lt;dbl&gt;</th><th scope=col>&lt;dbl&gt;</th><th scope=col>&lt;dbl&gt;</th></tr>\n",
              "</thead>\n",
              "<tbody>\n",
              "\t<tr><th scope=row>298</th><td>59</td><td>1</td><td>0</td><td>164</td><td>176</td><td>1</td><td>0</td><td> 90</td><td>0</td><td>1.0</td><td>1</td><td>2</td><td>1</td><td>0</td></tr>\n",
              "\t<tr><th scope=row>299</th><td>57</td><td>0</td><td>0</td><td>140</td><td>241</td><td>0</td><td>1</td><td>123</td><td>1</td><td>0.2</td><td>1</td><td>0</td><td>3</td><td>0</td></tr>\n",
              "\t<tr><th scope=row>300</th><td>45</td><td>1</td><td>3</td><td>110</td><td>264</td><td>0</td><td>1</td><td>132</td><td>0</td><td>1.2</td><td>1</td><td>0</td><td>3</td><td>0</td></tr>\n",
              "\t<tr><th scope=row>301</th><td>68</td><td>1</td><td>0</td><td>144</td><td>193</td><td>1</td><td>1</td><td>141</td><td>0</td><td>3.4</td><td>1</td><td>2</td><td>3</td><td>0</td></tr>\n",
              "\t<tr><th scope=row>302</th><td>57</td><td>1</td><td>0</td><td>130</td><td>131</td><td>0</td><td>1</td><td>115</td><td>1</td><td>1.2</td><td>1</td><td>1</td><td>3</td><td>0</td></tr>\n",
              "\t<tr><th scope=row>303</th><td>57</td><td>0</td><td>1</td><td>130</td><td>236</td><td>0</td><td>0</td><td>174</td><td>0</td><td>0.0</td><td>1</td><td>1</td><td>2</td><td>0</td></tr>\n",
              "</tbody>\n",
              "</table>\n"
            ],
            "text/markdown": "\nA data.frame: 6 × 14\n\n| <!--/--> | age &lt;dbl&gt; | sex &lt;dbl&gt; | cp &lt;dbl&gt; | trestbps &lt;dbl&gt; | chol &lt;dbl&gt; | fbs &lt;dbl&gt; | restecg &lt;dbl&gt; | thalach &lt;dbl&gt; | exang &lt;dbl&gt; | oldpeak &lt;dbl&gt; | slope &lt;dbl&gt; | ca &lt;dbl&gt; | thal &lt;dbl&gt; | target &lt;dbl&gt; |\n|---|---|---|---|---|---|---|---|---|---|---|---|---|---|---|\n| 298 | 59 | 1 | 0 | 164 | 176 | 1 | 0 |  90 | 0 | 1.0 | 1 | 2 | 1 | 0 |\n| 299 | 57 | 0 | 0 | 140 | 241 | 0 | 1 | 123 | 1 | 0.2 | 1 | 0 | 3 | 0 |\n| 300 | 45 | 1 | 3 | 110 | 264 | 0 | 1 | 132 | 0 | 1.2 | 1 | 0 | 3 | 0 |\n| 301 | 68 | 1 | 0 | 144 | 193 | 1 | 1 | 141 | 0 | 3.4 | 1 | 2 | 3 | 0 |\n| 302 | 57 | 1 | 0 | 130 | 131 | 0 | 1 | 115 | 1 | 1.2 | 1 | 1 | 3 | 0 |\n| 303 | 57 | 0 | 1 | 130 | 236 | 0 | 0 | 174 | 0 | 0.0 | 1 | 1 | 2 | 0 |\n\n",
            "text/latex": "A data.frame: 6 × 14\n\\begin{tabular}{r|llllllllllllll}\n  & age & sex & cp & trestbps & chol & fbs & restecg & thalach & exang & oldpeak & slope & ca & thal & target\\\\\n  & <dbl> & <dbl> & <dbl> & <dbl> & <dbl> & <dbl> & <dbl> & <dbl> & <dbl> & <dbl> & <dbl> & <dbl> & <dbl> & <dbl>\\\\\n\\hline\n\t298 & 59 & 1 & 0 & 164 & 176 & 1 & 0 &  90 & 0 & 1.0 & 1 & 2 & 1 & 0\\\\\n\t299 & 57 & 0 & 0 & 140 & 241 & 0 & 1 & 123 & 1 & 0.2 & 1 & 0 & 3 & 0\\\\\n\t300 & 45 & 1 & 3 & 110 & 264 & 0 & 1 & 132 & 0 & 1.2 & 1 & 0 & 3 & 0\\\\\n\t301 & 68 & 1 & 0 & 144 & 193 & 1 & 1 & 141 & 0 & 3.4 & 1 & 2 & 3 & 0\\\\\n\t302 & 57 & 1 & 0 & 130 & 131 & 0 & 1 & 115 & 1 & 1.2 & 1 & 1 & 3 & 0\\\\\n\t303 & 57 & 0 & 1 & 130 & 236 & 0 & 0 & 174 & 0 & 0.0 & 1 & 1 & 2 & 0\\\\\n\\end{tabular}\n",
            "text/plain": [
              "    age sex cp trestbps chol fbs restecg thalach exang oldpeak slope ca thal\n",
              "298 59  1   0  164      176  1   0        90     0     1.0     1     2  1   \n",
              "299 57  0   0  140      241  0   1       123     1     0.2     1     0  3   \n",
              "300 45  1   3  110      264  0   1       132     0     1.2     1     0  3   \n",
              "301 68  1   0  144      193  1   1       141     0     3.4     1     2  3   \n",
              "302 57  1   0  130      131  0   1       115     1     1.2     1     1  3   \n",
              "303 57  0   1  130      236  0   0       174     0     0.0     1     1  2   \n",
              "    target\n",
              "298 0     \n",
              "299 0     \n",
              "300 0     \n",
              "301 0     \n",
              "302 0     \n",
              "303 0     "
            ]
          },
          "metadata": {}
        },
        {
          "output_type": "display_data",
          "data": {
            "text/html": [
              "<style>\n",
              ".list-inline {list-style: none; margin:0; padding: 0}\n",
              ".list-inline>li {display: inline-block}\n",
              ".list-inline>li:not(:last-child)::after {content: \"\\00b7\"; padding: 0 .5ex}\n",
              "</style>\n",
              "<ol class=list-inline><li>303</li><li>14</li></ol>\n"
            ],
            "text/markdown": "1. 303\n2. 14\n\n\n",
            "text/latex": "\\begin{enumerate*}\n\\item 303\n\\item 14\n\\end{enumerate*}\n",
            "text/plain": [
              "[1] 303  14"
            ]
          },
          "metadata": {}
        }
      ]
    },
    {
      "cell_type": "code",
      "source": [
        "dataimbalanced[,14] <- factor(dataimbalanced[,14])\n",
        "\n",
        "summary(dataimbalanced)\n",
        "dim(dataimbalanced)*"
      ],
      "metadata": {
        "colab": {
          "base_uri": "https://localhost:8080/",
          "height": 551
        },
        "id": "G-b8uXIFyj2f",
        "outputId": "07934daf-9456-443f-f435-15c89e622fbf"
      },
      "execution_count": null,
      "outputs": [
        {
          "output_type": "display_data",
          "data": {
            "text/plain": [
              "      age             sex               cp           trestbps    \n",
              " Min.   :29.00   Min.   :0.0000   Min.   :0.000   Min.   : 94.0  \n",
              " 1st Qu.:47.50   1st Qu.:0.0000   1st Qu.:0.000   1st Qu.:120.0  \n",
              " Median :55.00   Median :1.0000   Median :1.000   Median :130.0  \n",
              " Mean   :54.37   Mean   :0.6832   Mean   :0.967   Mean   :131.6  \n",
              " 3rd Qu.:61.00   3rd Qu.:1.0000   3rd Qu.:2.000   3rd Qu.:140.0  \n",
              " Max.   :77.00   Max.   :1.0000   Max.   :3.000   Max.   :200.0  \n",
              "      chol            fbs            restecg          thalach     \n",
              " Min.   :126.0   Min.   :0.0000   Min.   :0.0000   Min.   : 71.0  \n",
              " 1st Qu.:211.0   1st Qu.:0.0000   1st Qu.:0.0000   1st Qu.:133.5  \n",
              " Median :240.0   Median :0.0000   Median :1.0000   Median :153.0  \n",
              " Mean   :246.3   Mean   :0.1485   Mean   :0.5281   Mean   :149.6  \n",
              " 3rd Qu.:274.5   3rd Qu.:0.0000   3rd Qu.:1.0000   3rd Qu.:166.0  \n",
              " Max.   :564.0   Max.   :1.0000   Max.   :2.0000   Max.   :202.0  \n",
              "     exang           oldpeak         slope             ca        \n",
              " Min.   :0.0000   Min.   :0.00   Min.   :0.000   Min.   :0.0000  \n",
              " 1st Qu.:0.0000   1st Qu.:0.00   1st Qu.:1.000   1st Qu.:0.0000  \n",
              " Median :0.0000   Median :0.80   Median :1.000   Median :0.0000  \n",
              " Mean   :0.3267   Mean   :1.04   Mean   :1.399   Mean   :0.7294  \n",
              " 3rd Qu.:1.0000   3rd Qu.:1.60   3rd Qu.:2.000   3rd Qu.:1.0000  \n",
              " Max.   :1.0000   Max.   :6.20   Max.   :2.000   Max.   :4.0000  \n",
              "      thal       target \n",
              " Min.   :0.000   0:138  \n",
              " 1st Qu.:2.000   1:165  \n",
              " Median :2.000          \n",
              " Mean   :2.314          \n",
              " 3rd Qu.:3.000          \n",
              " Max.   :3.000          "
            ]
          },
          "metadata": {}
        },
        {
          "output_type": "display_data",
          "data": {
            "text/html": [
              "<style>\n",
              ".list-inline {list-style: none; margin:0; padding: 0}\n",
              ".list-inline>li {display: inline-block}\n",
              ".list-inline>li:not(:last-child)::after {content: \"\\00b7\"; padding: 0 .5ex}\n",
              "</style>\n",
              "<ol class=list-inline><li>303</li><li>14</li></ol>\n"
            ],
            "text/markdown": "1. 303\n2. 14\n\n\n",
            "text/latex": "\\begin{enumerate*}\n\\item 303\n\\item 14\n\\end{enumerate*}\n",
            "text/plain": [
              "[1] 303  14"
            ]
          },
          "metadata": {}
        }
      ]
    },
    {
      "cell_type": "code",
      "source": [
        "x <- dataimbalanced[,1:13]\n",
        "kelasimbalanced <- dataimbalanced[,14]\n",
        "dataimbalanced <-data.frame(x, kelasimbalanced=unlist(kelasimbalanced))\n",
        "\n",
        "table(kelasimbalanced)\n",
        "\n",
        "selisihkelasimbalanced<- table(kelasimbalanced)[2]-table(kelasimbalanced)[1]\n",
        "selisihkelasimbalanced"
      ],
      "metadata": {
        "colab": {
          "base_uri": "https://localhost:8080/",
          "height": 90
        },
        "id": "kga0V3dR2xL1",
        "outputId": "57160fba-8239-4366-c4e6-3d000b3174ca"
      },
      "execution_count": null,
      "outputs": [
        {
          "output_type": "display_data",
          "data": {
            "text/plain": [
              "kelasimbalanced\n",
              "  0   1 \n",
              "138 165 "
            ]
          },
          "metadata": {}
        },
        {
          "output_type": "display_data",
          "data": {
            "text/html": [
              "<strong>1:</strong> 27"
            ],
            "text/markdown": "**1:** 27",
            "text/latex": "\\textbf{1:} 27",
            "text/plain": [
              " 1 \n",
              "27 "
            ]
          },
          "metadata": {}
        }
      ]
    },
    {
      "cell_type": "code",
      "source": [
        "data.balanced <- ovun.sample(kelasimbalanced~., data=dataimbalanced,\n",
        "N=nrow(dataimbalanced), p =0.5, seed=12, method=\"both\")$data\n",
        "names(data.balanced)[14]<-\"KelasBalanced\"\n",
        "summary(data.balanced)\n",
        "table(data.balanced$KelasBalanced)\n",
        "selisihkelasbalanced <- table(data.balanced$KelasBalanced)\n",
        "[2]-table(data.balanced$KelasBalanced)[1]\n",
        "selisihkelasbalanced"
      ],
      "metadata": {
        "colab": {
          "base_uri": "https://localhost:8080/",
          "height": 606
        },
        "id": "JnLvS1jo4TAV",
        "outputId": "341c057d-6a44-47b0-c155-29317feceab1"
      },
      "execution_count": null,
      "outputs": [
        {
          "output_type": "display_data",
          "data": {
            "text/plain": [
              "      age             sex               cp            trestbps  \n",
              " Min.   :34.00   Min.   :0.0000   Min.   :0.0000   Min.   : 94  \n",
              " 1st Qu.:49.00   1st Qu.:0.0000   1st Qu.:0.0000   1st Qu.:120  \n",
              " Median :57.00   Median :1.0000   Median :1.0000   Median :130  \n",
              " Mean   :54.69   Mean   :0.6997   Mean   :0.9241   Mean   :133  \n",
              " 3rd Qu.:61.00   3rd Qu.:1.0000   3rd Qu.:2.0000   3rd Qu.:140  \n",
              " Max.   :77.00   Max.   :1.0000   Max.   :3.0000   Max.   :192  \n",
              "      chol            fbs            restecg          thalach     \n",
              " Min.   :126.0   Min.   :0.0000   Min.   :0.0000   Min.   : 71.0  \n",
              " 1st Qu.:213.0   1st Qu.:0.0000   1st Qu.:0.0000   1st Qu.:133.5  \n",
              " Median :243.0   Median :0.0000   Median :0.0000   Median :154.0  \n",
              " Mean   :247.8   Mean   :0.1551   Mean   :0.5017   Mean   :149.4  \n",
              " 3rd Qu.:281.5   3rd Qu.:0.0000   3rd Qu.:1.0000   3rd Qu.:167.5  \n",
              " Max.   :564.0   Max.   :1.0000   Max.   :2.0000   Max.   :195.0  \n",
              "     exang           oldpeak           slope             ca        \n",
              " Min.   :0.0000   Min.   :0.0000   Min.   :0.000   Min.   :0.0000  \n",
              " 1st Qu.:0.0000   1st Qu.:0.0000   1st Qu.:1.000   1st Qu.:0.0000  \n",
              " Median :0.0000   Median :0.6000   Median :1.000   Median :0.0000  \n",
              " Mean   :0.3069   Mean   :0.9779   Mean   :1.409   Mean   :0.8317  \n",
              " 3rd Qu.:1.0000   3rd Qu.:1.6000   3rd Qu.:2.000   3rd Qu.:1.0000  \n",
              " Max.   :1.0000   Max.   :6.2000   Max.   :2.000   Max.   :4.0000  \n",
              "      thal       KelasBalanced\n",
              " Min.   :0.000   1:151        \n",
              " 1st Qu.:2.000   0:152        \n",
              " Median :2.000                \n",
              " Mean   :2.297                \n",
              " 3rd Qu.:3.000                \n",
              " Max.   :3.000                "
            ]
          },
          "metadata": {}
        },
        {
          "output_type": "display_data",
          "data": {
            "text/plain": [
              "\n",
              "  1   0 \n",
              "151 152 "
            ]
          },
          "metadata": {}
        },
        {
          "output_type": "display_data",
          "data": {
            "text/html": [
              "<strong>0:</strong> 1"
            ],
            "text/markdown": "**0:** 1",
            "text/latex": "\\textbf{0:} 1",
            "text/plain": [
              "0 \n",
              "1 "
            ]
          },
          "metadata": {}
        }
      ]
    },
    {
      "cell_type": "code",
      "source": [
        "set.seed(123)\n",
        "dataUji <- dataimbalanced[sample\n",
        "(nrow(dataimbalanced), 0.5*nrow(dataimbalanced)), ]\n",
        "aktual <- dataUji$kelasimbalanced\n",
        "summary(dataUji)"
      ],
      "metadata": {
        "colab": {
          "base_uri": "https://localhost:8080/",
          "height": 534
        },
        "id": "9oaK-KqwA7JU",
        "outputId": "84d58308-9d7d-4d62-d483-79fad25651df"
      },
      "execution_count": null,
      "outputs": [
        {
          "output_type": "display_data",
          "data": {
            "text/plain": [
              "      age             sex               cp          trestbps    \n",
              " Min.   :34.00   Min.   :0.0000   Min.   :0.00   Min.   : 94.0  \n",
              " 1st Qu.:47.50   1st Qu.:0.0000   1st Qu.:0.00   1st Qu.:120.0  \n",
              " Median :56.00   Median :1.0000   Median :1.00   Median :130.0  \n",
              " Mean   :54.53   Mean   :0.6821   Mean   :1.04   Mean   :132.1  \n",
              " 3rd Qu.:62.00   3rd Qu.:1.0000   3rd Qu.:2.00   3rd Qu.:140.0  \n",
              " Max.   :71.00   Max.   :1.0000   Max.   :3.00   Max.   :200.0  \n",
              "      chol            fbs            restecg          thalach     \n",
              " Min.   :126.0   Min.   :0.0000   Min.   :0.0000   Min.   : 88.0  \n",
              " 1st Qu.:212.5   1st Qu.:0.0000   1st Qu.:0.0000   1st Qu.:136.5  \n",
              " Median :243.0   Median :0.0000   Median :1.0000   Median :153.0  \n",
              " Mean   :246.9   Mean   :0.1788   Mean   :0.5166   Mean   :149.4  \n",
              " 3rd Qu.:274.5   3rd Qu.:0.0000   3rd Qu.:1.0000   3rd Qu.:163.0  \n",
              " Max.   :564.0   Max.   :1.0000   Max.   :1.0000   Max.   :195.0  \n",
              "     exang           oldpeak          slope             ca        \n",
              " Min.   :0.0000   Min.   :0.000   Min.   :0.000   Min.   :0.0000  \n",
              " 1st Qu.:0.0000   1st Qu.:0.000   1st Qu.:1.000   1st Qu.:0.0000  \n",
              " Median :0.0000   Median :0.800   Median :1.000   Median :0.0000  \n",
              " Mean   :0.3179   Mean   :1.006   Mean   :1.364   Mean   :0.7152  \n",
              " 3rd Qu.:1.0000   3rd Qu.:1.600   3rd Qu.:2.000   3rd Qu.:1.0000  \n",
              " Max.   :1.0000   Max.   :4.200   Max.   :2.000   Max.   :4.0000  \n",
              "      thal       kelasimbalanced\n",
              " Min.   :1.000   0:63           \n",
              " 1st Qu.:2.000   1:88           \n",
              " Median :2.000                  \n",
              " Mean   :2.338                  \n",
              " 3rd Qu.:3.000                  \n",
              " Max.   :3.000                  "
            ]
          },
          "metadata": {}
        }
      ]
    },
    {
      "cell_type": "code",
      "source": [
        "  model.svm.imbalanced <- svm\n",
        "  (kelasimbalanced~., data=dataimbalanced)\n",
        "  model.svm.imbalanced"
      ],
      "metadata": {
        "colab": {
          "base_uri": "https://localhost:8080/",
          "height": 220
        },
        "id": "Zr3D3KoHCpYr",
        "outputId": "a8689df0-945b-475e-8518-491292e34cc1"
      },
      "execution_count": null,
      "outputs": [
        {
          "output_type": "display_data",
          "data": {
            "text/plain": [
              "\n",
              "Call:\n",
              "svm(formula = kelasimbalanced ~ ., data = dataimbalanced)\n",
              "\n",
              "\n",
              "Parameters:\n",
              "   SVM-Type:  C-classification \n",
              " SVM-Kernel:  radial \n",
              "       cost:  1 \n",
              "\n",
              "Number of Support Vectors:  174\n"
            ]
          },
          "metadata": {}
        }
      ]
    },
    {
      "cell_type": "code",
      "source": [
        "model.svm.balanced <-svm\n",
        "(KelasBalanced~., data=data.balanced)\n",
        "model.svm.balanced"
      ],
      "metadata": {
        "colab": {
          "base_uri": "https://localhost:8080/",
          "height": 220
        },
        "id": "r-igMAsuC5Gi",
        "outputId": "d7c2b156-680a-4401-8386-a1e9cebb7175"
      },
      "execution_count": null,
      "outputs": [
        {
          "output_type": "display_data",
          "data": {
            "text/plain": [
              "\n",
              "Call:\n",
              "svm(formula = KelasBalanced ~ ., data = data.balanced)\n",
              "\n",
              "\n",
              "Parameters:\n",
              "   SVM-Type:  C-classification \n",
              " SVM-Kernel:  radial \n",
              "       cost:  1 \n",
              "\n",
              "Number of Support Vectors:  179\n"
            ]
          },
          "metadata": {}
        }
      ]
    },
    {
      "cell_type": "code",
      "source": [
        "ypred <- predict(model.svm.imbalanced, dataUji)\n",
        "\n",
        "(matcon <- table(prediksi=ypred,aktual))\n",
        "(akurasiImbalanced <- sum(diag(matcon))/sum(matcon)*100)\n",
        "(spesifisitasImbalanced <- matcon[1,1]/(matcon[1,1]+matcon[2,1]))\n",
        "(sensitifitasImbalanced <- matcon[2,2]/(matcon[2,2]+matcon[1,2]))\n",
        "(aucImbalanced <- (spesifisitasImbalanced+sensitifitasImbalanced)/2)"
      ],
      "metadata": {
        "colab": {
          "base_uri": "https://localhost:8080/",
          "height": 160
        },
        "id": "NNHMh8CvDHo_",
        "outputId": "16325f40-d2be-4de0-f5dc-8e58e0fbb2d3"
      },
      "execution_count": null,
      "outputs": [
        {
          "output_type": "display_data",
          "data": {
            "text/plain": [
              "        aktual\n",
              "prediksi  0  1\n",
              "       0 57  6\n",
              "       1  6 82"
            ]
          },
          "metadata": {}
        },
        {
          "output_type": "display_data",
          "data": {
            "text/html": [
              "92.0529801324503"
            ],
            "text/markdown": "92.0529801324503",
            "text/latex": "92.0529801324503",
            "text/plain": [
              "[1] 92.05298"
            ]
          },
          "metadata": {}
        },
        {
          "output_type": "display_data",
          "data": {
            "text/html": [
              "0.904761904761905"
            ],
            "text/markdown": "0.904761904761905",
            "text/latex": "0.904761904761905",
            "text/plain": [
              "[1] 0.9047619"
            ]
          },
          "metadata": {}
        },
        {
          "output_type": "display_data",
          "data": {
            "text/html": [
              "0.931818181818182"
            ],
            "text/markdown": "0.931818181818182",
            "text/latex": "0.931818181818182",
            "text/plain": [
              "[1] 0.9318182"
            ]
          },
          "metadata": {}
        },
        {
          "output_type": "display_data",
          "data": {
            "text/html": [
              "0.918290043290043"
            ],
            "text/markdown": "0.918290043290043",
            "text/latex": "0.918290043290043",
            "text/plain": [
              "[1] 0.91829"
            ]
          },
          "metadata": {}
        }
      ]
    },
    {
      "cell_type": "code",
      "source": [
        "ypred <- predict(model.svm.balanced, dataUji)\n",
        "\n",
        "(matcon <- table(prediksi=ypred, aktual))\n",
        "(akurasiBalanced <- sum(diag(matcon))/sum(matcon)*100)\n",
        "(spesifisitasBalanced <- matcon[1,1]/(matcon[1,1]+matcon[2,1]))\n",
        "(sensitifitasBalanced <- matcon[2,2]/(matcon[2,2]+matcon[1,2]))\n",
        "(aucBalanced <- (spesifisitasBalanced+sensitifitasBalanced)/2)"
      ],
      "metadata": {
        "colab": {
          "base_uri": "https://localhost:8080/",
          "height": 160
        },
        "id": "0_aQUjbOFjL-",
        "outputId": "89c1531a-ed2c-4e41-9dc4-38fa357cb70c"
      },
      "execution_count": null,
      "outputs": [
        {
          "output_type": "display_data",
          "data": {
            "text/plain": [
              "        aktual\n",
              "prediksi  0  1\n",
              "       1  5 77\n",
              "       0 58 11"
            ]
          },
          "metadata": {}
        },
        {
          "output_type": "display_data",
          "data": {
            "text/html": [
              "10.5960264900662"
            ],
            "text/markdown": "10.5960264900662",
            "text/latex": "10.5960264900662",
            "text/plain": [
              "[1] 10.59603"
            ]
          },
          "metadata": {}
        },
        {
          "output_type": "display_data",
          "data": {
            "text/html": [
              "0.0793650793650794"
            ],
            "text/markdown": "0.0793650793650794",
            "text/latex": "0.0793650793650794",
            "text/plain": [
              "[1] 0.07936508"
            ]
          },
          "metadata": {}
        },
        {
          "output_type": "display_data",
          "data": {
            "text/html": [
              "0.125"
            ],
            "text/markdown": "0.125",
            "text/latex": "0.125",
            "text/plain": [
              "[1] 0.125"
            ]
          },
          "metadata": {}
        },
        {
          "output_type": "display_data",
          "data": {
            "text/html": [
              "0.10218253968254"
            ],
            "text/markdown": "0.10218253968254",
            "text/latex": "0.10218253968254",
            "text/plain": [
              "[1] 0.1021825"
            ]
          },
          "metadata": {}
        }
      ]
    },
    {
      "cell_type": "code",
      "source": [
        "data <- c('Imbalanced', 'Balanced')\n",
        "akurasi <- c(akurasiImbalanced, akurasiBalanced)\n",
        "spesifisitas <- c(spesifisitasImbalanced, spesifisitasBalanced)\n",
        "sensitifitas <- c(sensitifitasImbalanced, sensitifitasBalanced)\n",
        "auc <- c(aucImbalanced, aucBalanced)\n",
        "\n",
        "tabelPerforma <- data.frame(data, akurasi, spesifisitas, sensitifitas, auc)\n",
        "tabelPerforma"
      ],
      "metadata": {
        "colab": {
          "base_uri": "https://localhost:8080/",
          "height": 161
        },
        "id": "80hMb7THHmwj",
        "outputId": "81ee02a6-8d55-4302-ead1-118761540efc"
      },
      "execution_count": null,
      "outputs": [
        {
          "output_type": "display_data",
          "data": {
            "text/html": [
              "<table class=\"dataframe\">\n",
              "<caption>A data.frame: 2 × 5</caption>\n",
              "<thead>\n",
              "\t<tr><th scope=col>data</th><th scope=col>akurasi</th><th scope=col>spesifisitas</th><th scope=col>sensitifitas</th><th scope=col>auc</th></tr>\n",
              "\t<tr><th scope=col>&lt;chr&gt;</th><th scope=col>&lt;dbl&gt;</th><th scope=col>&lt;dbl&gt;</th><th scope=col>&lt;dbl&gt;</th><th scope=col>&lt;dbl&gt;</th></tr>\n",
              "</thead>\n",
              "<tbody>\n",
              "\t<tr><td>Imbalanced</td><td>92.05298</td><td>0.90476190</td><td>0.9318182</td><td>0.9182900</td></tr>\n",
              "\t<tr><td>Balanced  </td><td>10.59603</td><td>0.07936508</td><td>0.1250000</td><td>0.1021825</td></tr>\n",
              "</tbody>\n",
              "</table>\n"
            ],
            "text/markdown": "\nA data.frame: 2 × 5\n\n| data &lt;chr&gt; | akurasi &lt;dbl&gt; | spesifisitas &lt;dbl&gt; | sensitifitas &lt;dbl&gt; | auc &lt;dbl&gt; |\n|---|---|---|---|---|\n| Imbalanced | 92.05298 | 0.90476190 | 0.9318182 | 0.9182900 |\n| Balanced   | 10.59603 | 0.07936508 | 0.1250000 | 0.1021825 |\n\n",
            "text/latex": "A data.frame: 2 × 5\n\\begin{tabular}{lllll}\n data & akurasi & spesifisitas & sensitifitas & auc\\\\\n <chr> & <dbl> & <dbl> & <dbl> & <dbl>\\\\\n\\hline\n\t Imbalanced & 92.05298 & 0.90476190 & 0.9318182 & 0.9182900\\\\\n\t Balanced   & 10.59603 & 0.07936508 & 0.1250000 & 0.1021825\\\\\n\\end{tabular}\n",
            "text/plain": [
              "  data       akurasi  spesifisitas sensitifitas auc      \n",
              "1 Imbalanced 92.05298 0.90476190   0.9318182    0.9182900\n",
              "2 Balanced   10.59603 0.07936508   0.1250000    0.1021825"
            ]
          },
          "metadata": {}
        }
      ]
    }
  ]
}